{
 "cells": [
  {
   "cell_type": "code",
   "execution_count": 1,
   "metadata": {},
   "outputs": [],
   "source": [
    "import os\n",
    "import numpy as np\n",
    "import librosa\n",
    "from sklearn.preprocessing import StandardScaler\n",
    "import pickle\n",
    "from sklearn.decomposition import PCA\n",
    "import numpy as np\n",
    "from sklearn.metrics.pairwise import cosine_similarity, euclidean_distances, manhattan_distances\n",
    "from queue import PriorityQueue\n"
   ]
  },
  {
   "cell_type": "code",
   "execution_count": 2,
   "metadata": {},
   "outputs": [],
   "source": [
    "current_directory = os.getcwd()\n"
   ]
  },
  {
   "cell_type": "code",
   "execution_count": 3,
   "metadata": {},
   "outputs": [],
   "source": [
    "import pickle\n",
    "\n",
    "# Cargar la lista desde el archivo .pkl\n",
    "with open('canciones.pkl', 'rb') as file:\n",
    "    canciones_cargadas = pickle.load(file)\n",
    "\n",
    "# Ahora canciones_cargadas contiene la lista que guardaste anteriormente\n",
    "#print(len(canciones_cargadas))\n",
    "#print(canciones_cargadas[0])\n"
   ]
  },
  {
   "cell_type": "code",
   "execution_count": 4,
   "metadata": {},
   "outputs": [],
   "source": [
    "import numpy as np\n",
    "\n",
    "# Cargar el archivo features.pkl con allow_pickle=True\n",
    "#caractersiticas_Existentes = np.load('features.pkl', allow_pickle=True)\n",
    "with open('id_caracteristicas.txt', 'r', encoding='utf-8') as file:\n",
    "    nombres_id = file.readlines()\n",
    "\n",
    "#print(len(nombres_id))"
   ]
  },
  {
   "cell_type": "code",
   "execution_count": 5,
   "metadata": {},
   "outputs": [],
   "source": [
    "import pandas as pd\n",
    "from sklearn.preprocessing import StandardScaler\n",
    "scaler = StandardScaler()\n",
    "#NORMALIZAR data, para mejor busquedas \n",
    "data_normalized = scaler.fit_transform(canciones_cargadas)\n",
    "\n"
   ]
  },
  {
   "cell_type": "code",
   "execution_count": 6,
   "metadata": {},
   "outputs": [],
   "source": [
    "import os\n",
    "import numpy as np\n",
    "import librosa\n",
    "from sklearn.preprocessing import StandardScaler\n"
   ]
  },
  {
   "cell_type": "code",
   "execution_count": 7,
   "metadata": {},
   "outputs": [],
   "source": [
    "import numpy as np\n",
    "from sklearn.metrics.pairwise import cosine_similarity, euclidean_distances, manhattan_distances\n",
    "from queue import PriorityQueue\n",
    "\n",
    "def knn_search_priority_queue(query, k):\n",
    "    # Hasta el de mejor resultados\n",
    "    similarities = cosine_similarity(query.reshape(1, -1), data_normalized).flatten()\n",
    "    \n",
    "    # cola de prioridad\n",
    "    priority_queue = PriorityQueue()\n",
    "    for i, sim in enumerate(similarities):\n",
    "        priority_queue.put((-sim, nombres_id[i]))  # por ser una cola para sacar los mejores(mas abajo ) desde abajo los metemos\n",
    "    \n",
    "\n",
    "    neighbors = []\n",
    "    for _ in range(k):\n",
    "        sim, neighbor = priority_queue.get()\n",
    "        neighbors.append((neighbor, -sim))\n",
    "    \n",
    "    return neighbors\n"
   ]
  },
  {
   "cell_type": "code",
   "execution_count": 8,
   "metadata": {},
   "outputs": [],
   "source": [
    "\n",
    "k = 5\n",
    "nueva_cancion_features =  data_normalized[1631]#pasarle una cancion normalizada que feo yo queria pasarle una nueva\n"
   ]
  },
  {
   "cell_type": "code",
   "execution_count": 9,
   "metadata": {},
   "outputs": [
    {
     "name": "stdout",
     "output_type": "stream",
     "text": [
      "Vecinos más cercanos (KNN con cola de prioridad): \n",
      "0RcZp172ZchsrpRWgBKkyt.mp3\n",
      " : 1.0000000000000007\n",
      "1acz4dYqwZTZw6TgRBmmf2.mp3\n",
      " : 0.9028725695470132\n",
      "26NX1wPt1TRCH536yocd6i.mp3\n",
      " : 0.8900716896348277\n",
      "0Ow2s49u3akTmiLDmb1GU0.mp3\n",
      " : 0.8804939022845187\n",
      "0nDI66E3QkCqeykXMMBo7w.mp3\n",
      " : 0.8786401404586751\n"
     ]
    }
   ],
   "source": [
    "#Ya no es neceesario nomrlaizar\n",
    "\"\"\"\n",
    "query_normalized = scaler.transform(nueva_cancion_features.reshape(1, -1))\n",
    "knn_result_priority_queue = knn_search_priority_queue((query_normalized), k)\n",
    "\"\"\"\n",
    "knn_result_priority_queue = knn_search_priority_queue((nueva_cancion_features), k)\n",
    "print(\"Vecinos más cercanos (KNN con cola de prioridad): \")\n",
    "\n",
    "for i, data in knn_result_priority_queue:\n",
    "    print(i,\":\" ,data)\n"
   ]
  },
  {
   "cell_type": "code",
   "execution_count": 10,
   "metadata": {},
   "outputs": [],
   "source": [
    "import numpy as np\n",
    "\n",
    "def knn_range_search(query, radio):\n",
    "\n",
    "    vecinos_en_radio = []\n",
    "\n",
    "    for i, sample in enumerate(data_normalized):\n",
    "        distancia = euclidean_distances(query.reshape(1, -1), sample.reshape(1, -1))[0][0]\n",
    "        if distancia is not None and distancia <= radio:\n",
    "            vecinos_en_radio.append((nombres_id[i], distancia))\n",
    "    \n",
    "    vecinos_en_radio = sorted(vecinos_en_radio, key=lambda x: x[1])\n",
    "\n",
    "    return vecinos_en_radio\n"
   ]
  },
  {
   "cell_type": "code",
   "execution_count": 11,
   "metadata": {},
   "outputs": [],
   "source": [
    "import time"
   ]
  },
  {
   "cell_type": "code",
   "execution_count": 12,
   "metadata": {},
   "outputs": [
    {
     "name": "stdout",
     "output_type": "stream",
     "text": [
      "Vecinos más cercanos (range search):\n",
      "0RcZp172ZchsrpRWgBKkyt.mp3\n",
      " 0.0\n",
      "1acz4dYqwZTZw6TgRBmmf2.mp3\n",
      " 10.76116264900339\n",
      "26NX1wPt1TRCH536yocd6i.mp3\n",
      " 12.106064491649589\n",
      "1Jgaw4deeHcbldSmKbP5h3.mp3\n",
      " 12.183344420725206\n",
      "0nDI66E3QkCqeykXMMBo7w.mp3\n",
      " 12.334539709835617\n"
     ]
    }
   ],
   "source": [
    "r=50\n",
    "rango= knn_range_search((nueva_cancion_features), r)\n",
    "print(f\"Vecinos más cercanos (range search):\")\n",
    "for i, data in rango[:k]:\n",
    "    print(i, data)\n",
    "\n"
   ]
  },
  {
   "cell_type": "code",
   "execution_count": 13,
   "metadata": {},
   "outputs": [],
   "source": [
    "def knn_sequential(query, k):\n",
    "    distances = []\n",
    "    for sample in data_normalized:\n",
    "        distance = euclidean_distances(query.reshape(1, -1), sample.reshape(1, -1))[0][0]\n",
    "        distances.append(distance)\n",
    "    \n",
    "    indices = np.argsort(distances)[:k]#indices de manera ascendendete\n",
    "    \n",
    "    neighbors = []\n",
    "    for index in indices:\n",
    "        neighbors.append((nombres_id[index], distances[index]))\n",
    "    \n",
    "    return neighbors\n"
   ]
  },
  {
   "cell_type": "code",
   "execution_count": 14,
   "metadata": {},
   "outputs": [
    {
     "name": "stdout",
     "output_type": "stream",
     "text": [
      "Tiempo de ejecución: 0.9537875652313232 segundos\n",
      "Vecinos más cercanos (KNN Secuencial):\n",
      "0RcZp172ZchsrpRWgBKkyt.mp3\n",
      " 0.0\n",
      "1acz4dYqwZTZw6TgRBmmf2.mp3\n",
      " 10.76116264900339\n",
      "26NX1wPt1TRCH536yocd6i.mp3\n",
      " 12.106064491649589\n",
      "1Jgaw4deeHcbldSmKbP5h3.mp3\n",
      " 12.183344420725206\n",
      "0nDI66E3QkCqeykXMMBo7w.mp3\n",
      " 12.334539709835617\n"
     ]
    }
   ],
   "source": [
    "k=5\n",
    "\n",
    "start_time = time.time()\n",
    "knn_result_knn_sequential= knn_sequential((nueva_cancion_features), k)\n",
    "end_time = time.time()\n",
    "elapsed_time = end_time - start_time\n",
    "print(f\"Tiempo de ejecución: {elapsed_time} segundos\")\n",
    "print(f\"Vecinos más cercanos (KNN Secuencial):\")\n",
    "for i, data in knn_result_knn_sequential:\n",
    "    print(i, data)\n"
   ]
  },
  {
   "cell_type": "code",
   "execution_count": 15,
   "metadata": {},
   "outputs": [],
   "source": [
    "import pandas as pd\n",
    "import numpy as np\n",
    "import  faiss"
   ]
  },
  {
   "cell_type": "code",
   "execution_count": 17,
   "metadata": {},
   "outputs": [],
   "source": [
    "def train_index_HNSWFlat(data):\n",
    "    # Inicializa el índice de FAISS con HNSW (Hierarchical Navigable Small World)\n",
    "    M = 32  # Número de vecinos en la lista de entrada\n",
    "    efConstruction = 100  # explorar al construir canciones mientras mayor es mejor la precision y mas demora\n",
    "    dimension = data_normalized.shape[1]   # Dimensión de tus características\n",
    "    quantizer = faiss.IndexHNSWFlat(dimension, M, faiss.METRIC_L2)#distancia eulediana\n",
    "    quantizer.hnsw.efConstruction = efConstruction\n",
    "    index = quantizer\n",
    "    index.add(data)\n",
    "    return index\n",
    "\"\"\"\n",
    "Sí, eso es correcto. En el contexto del índice HNSW con el parámetro M establecido en 32, cada punto (en este caso, cada canción) \n",
    "está directamente conectado a un máximo de 32 puntos en su lista de entrada. Estos son sus \"vecinos cercanos\" en el espacio de características.\n",
    "\"\"\"\"\"\"En otras palabras, cada canción en tu conjunto de datos tiene conexiones directas con hasta M \n",
    "canciones más cercanas según la métrica de distancia especificada (en este caso, la distancia L2).\"\"\"\n",
    "def knn_faiss_HNSWFlat(indice, query_object, k):\n",
    "    distances, indices = indice.search(np.expand_dims(query_object, axis=0), k)\n",
    "    resultados = []\n",
    "    for i in range(k):\n",
    "        distancia = distances[0][i]\n",
    "        etiqueta = nombres_id[indices[0][i]]\n",
    "        resultados.append((distancia, etiqueta))\n",
    "    return resultados\n",
    "\n",
    "# Entrenamiento con IndexHNSWFlat\n",
    "index_train = train_index_HNSWFlat(data_normalized)\n",
    "\n"
   ]
  },
  {
   "cell_type": "code",
   "execution_count": 18,
   "metadata": {},
   "outputs": [
    {
     "name": "stdout",
     "output_type": "stream",
     "text": [
      "Tiempo de ejecución: 0.0020024776458740234 segundos\n",
      "5\n",
      "Resultados de búsqueda KNN con FAISS (IndexHNSWFlat):\n",
      "Distancia: 0.0, Etiqueta: 0RcZp172ZchsrpRWgBKkyt.mp3\n",
      "\n",
      "Distancia: 115.80262756347656, Etiqueta: 1acz4dYqwZTZw6TgRBmmf2.mp3\n",
      "\n",
      "Distancia: 146.55679321289062, Etiqueta: 26NX1wPt1TRCH536yocd6i.mp3\n",
      "\n",
      "Distancia: 148.43386840820312, Etiqueta: 1Jgaw4deeHcbldSmKbP5h3.mp3\n",
      "\n",
      "Distancia: 152.140869140625, Etiqueta: 0nDI66E3QkCqeykXMMBo7w.mp3\n",
      "\n"
     ]
    }
   ],
   "source": [
    "\n",
    "\n",
    "query_example = nueva_cancion_features\n",
    "start_time = time.time()\n",
    "k_result = knn_faiss_HNSWFlat(index_train, query_example, 5)\n",
    "end_time = time.time()\n",
    "elapsed_time = end_time - start_time\n",
    "print(f\"Tiempo de ejecución: {elapsed_time} segundos\")\n",
    "\n",
    "print(len(k_result))\n",
    "\n",
    "print(\"Resultados de búsqueda KNN con FAISS (IndexHNSWFlat):\")\n",
    "for a, i in k_result:\n",
    "    print(f\"Distancia: {a}, Etiqueta: {i}\")"
   ]
  },
  {
   "cell_type": "code",
   "execution_count": 20,
   "metadata": {},
   "outputs": [],
   "source": [
    "matrices_array = np.array(data_normalized)\n",
    "\n",
    "# Número de dimensiones deseadas después de PCA\n",
    "n_dimensions = 100\n",
    "\n",
    "# Crear un objeto PCA\n",
    "pca = PCA(n_components=n_dimensions)\n",
    "\n",
    "# Aplicar PCA a las matrices\n",
    "matrices_reduced = pca.fit_transform(matrices_array)\n",
    "\n",
    "# Imprimir el tipo y los datos del array resultante después de PCA\n",
    "\"\"\"print(type(matrices_reduced))\n",
    "print(matrices_reduced)\n",
    "print(len(matrices_reduced[0]))\"\"\"\n",
    "\n",
    "from rtree import index\n",
    "p = index.Property()\n",
    "p.dimension = 100\n",
    "p.buffering_capacity = 8\n",
    "idx = index.Index(properties=p)\n",
    "\n",
    "for i, sample in enumerate(matrices_reduced):\n",
    "    idx.insert(i, sample)\n",
    "    #print(\"insertando\",i)\n",
    "\n"
   ]
  },
  {
   "cell_type": "code",
   "execution_count": 21,
   "metadata": {},
   "outputs": [
    {
     "name": "stdout",
     "output_type": "stream",
     "text": [
      "1KyA5lXW7cAgMLwxRdVAu3.mp3\n",
      "\n",
      "0IXpUl1fn2QZcBavfuq0H4.mp3\n",
      "\n",
      "0rZTJmLQx7IquBctp98d0z.mp3\n",
      "\n",
      "0fsj3HxzBHev6EJ7OLFE3r.mp3\n",
      "\n",
      "0TcOuAT1fL2RA1YUgTrBvK.mp3\n",
      "\n"
     ]
    }
   ],
   "source": [
    "nearest_neighbors_indices = list(idx.nearest((matrices_reduced[3481]), 5)) # 5 vecinos más cercanos a la canción 3481\n",
    "\n",
    "# Print the names of the nearest songs\n",
    "for i in nearest_neighbors_indices:\n",
    "    print(nombres_id[i])"
   ]
  }
 ],
 "metadata": {
  "kernelspec": {
   "display_name": "Python 3",
   "language": "python",
   "name": "python3"
  },
  "language_info": {
   "codemirror_mode": {
    "name": "ipython",
    "version": 3
   },
   "file_extension": ".py",
   "mimetype": "text/x-python",
   "name": "python",
   "nbconvert_exporter": "python",
   "pygments_lexer": "ipython3",
   "version": "3.9.18"
  }
 },
 "nbformat": 4,
 "nbformat_minor": 2
}
