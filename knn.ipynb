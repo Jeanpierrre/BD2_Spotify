{
 "cells": [
  {
   "cell_type": "code",
   "execution_count": 1,
   "metadata": {},
   "outputs": [],
   "source": [
    "import os\n",
    "import numpy as np\n",
    "import librosa\n",
    "from sklearn.preprocessing import StandardScaler\n",
    "\n",
    "def extract_features(file_path, max_length=1000):\n",
    "    audio, sr = librosa.load(file_path, mono=True)\n",
    "\n",
    "    # 1. Coeficientes MFCC\n",
    "    mfccs = librosa.feature.mfcc(y=audio, sr=sr)\n",
    "    mfcc_features = np.concatenate((mfccs.mean(axis=1), mfccs.std(axis=1)))\n",
    "\n",
    "    # 2. Cromagrama\n",
    "    chroma = librosa.feature.chroma_stft(y=audio, sr=sr)\n",
    "\n",
    "    # 3. Contraste espectral\n",
    "    contrast = librosa.feature.spectral_contrast(y=audio, sr=sr)\n",
    "\n",
    "    # 4. Tonnetz\n",
    "    tonnetz = librosa.feature.tonnetz(y=audio, sr=sr)\n",
    "\n",
    "    # 5. Tempograma\n",
    "    tempo, tempogram = librosa.beat.beat_track(y=audio, sr=sr)\n",
    "\n",
    "    # Asegurar que todas las características tengan la misma longitud\n",
    "    all_features = np.concatenate((mfcc_features, chroma.mean(axis=1)[:max_length], contrast.mean(axis=1)[:max_length], tonnetz.mean(axis=1)[:max_length], tempogram[:max_length]))\n",
    "    \n",
    "    # Rellenar con ceros si es necesario\n",
    "    if len(all_features) < max_length:\n",
    "        all_features = np.pad(all_features, (0, max_length - len(all_features)))\n",
    "\n",
    "    return all_features\n",
    "\n",
    "def save_features(folder_path):\n",
    "    features = []\n",
    "    names=[]\n",
    "    for file_name in os.listdir(folder_path):\n",
    "        if file_name.endswith(\".mp3\"):\n",
    "            file_path = os.path.join(folder_path, file_name)\n",
    "            song_features = extract_features(file_path)\n",
    "            features.append(song_features)\n",
    "            names.append(file_name)\n",
    "    return features, names\n",
    "    #np.save(output_file, np.array(features))\n",
    "    \n",
    "folder_path = 'es'\n",
    "caracteristicas, nombres= save_features(folder_path)\n"
   ]
  },
  {
   "cell_type": "code",
   "execution_count": 7,
   "metadata": {},
   "outputs": [
    {
     "name": "stdout",
     "output_type": "stream",
     "text": [
      "-----------CARGADO------------\n",
      "Canciones más similares:\n",
      "Bad Bunny - NI BIEN NI MAL.mp3\n",
      "Noriel, Myke Towers, Rauw Alejandro, Almighty - Cuerpo en Venta.mp3\n",
      "DrefQuila - Ella busca.mp3\n",
      "Don Omar - Pobre Diabla.mp3\n"
     ]
    },
    {
     "data": {
      "text/plain": [
       "'\\numbral_similitud = 0.9\\n\\n# Filtrar vecinos cercanos basados en el umbral de similitud\\nvecinos_filtrados = [(indice, distancia) for indice, distancia in zip(indices[0], distances[0]) if distancia <= umbral_similitud]\\n\\nprint(f\"Vecinos cercanos para la nueva canción (distancia <= {umbral_similitud}): {vecinos_filtrados}\")'"
      ]
     },
     "execution_count": 7,
     "metadata": {},
     "output_type": "execute_result"
    }
   ],
   "source": [
    "from sklearn.neighbors import NearestNeighbors\n",
    "from sklearn.preprocessing import StandardScaler\n",
    "\n",
    "\n",
    "caracteristicas = np.array(caracteristicas)\n",
    "\n",
    "# Cargar características existentes\n",
    "print(\"-----------CARGADO------------\")\n",
    "# Configurar el modelo k-NN\n",
    "n_neighbors = 4\n",
    "knn_model = NearestNeighbors(n_neighbors=n_neighbors, metric='euclidean')\n",
    "\n",
    "# Ajustar y transformar las características existentes con StandardScaler\n",
    "scaler = StandardScaler()\n",
    "existing_features_scaled = scaler.fit_transform(caracteristicas)\n",
    "knn_model.fit(existing_features_scaled)\n",
    "\n",
    "# Calcular características de la nueva canción y transformar con el mismo StandardScaler\n",
    "nueva_cancion_features = extract_features(\"Bad Bunny - NI BIEN NI MAL.mp3\")\n",
    "nueva_cancion = scaler.transform([nueva_cancion_features])\n",
    "\n",
    "# Encontrar vecinos cercanos\n",
    "#distances, indices = knn_model.kneighbors(nueva_cancion)\n",
    "nueva_cancion_vecinos = knn_model.kneighbors(nueva_cancion)[1]\n",
    "\n",
    "#print(f\"Vecinos cercanos para la nueva canción: {indices} con distancia {distances}\")\n",
    "\n",
    "\n",
    "# Imprimir los nombres de las canciones más similares\n",
    "print(\"Canciones más similares:\")\n",
    "for vecino_idx in nueva_cancion_vecinos[0]:\n",
    "    print(nombres[vecino_idx])\n",
    "\n",
    "\"\"\"\n",
    "umbral_similitud = 0.9\n",
    "\n",
    "# Filtrar vecinos cercanos basados en el umbral de similitud\n",
    "vecinos_filtrados = [(indice, distancia) for indice, distancia in zip(indices[0], distances[0]) if distancia <= umbral_similitud]\n",
    "\n",
    "print(f\"Vecinos cercanos para la nueva canción (distancia <= {umbral_similitud}): {vecinos_filtrados}\")\"\"\""
   ]
  },
  {
   "cell_type": "markdown",
   "metadata": {},
   "source": [
    "### KNN queque\n"
   ]
  },
  {
   "cell_type": "code",
   "execution_count": 8,
   "metadata": {},
   "outputs": [],
   "source": [
    "import numpy as np\n",
    "from sklearn.metrics.pairwise import euclidean_distances\n",
    "from queue import PriorityQueue\n",
    "\n",
    "#caracteristicas = np.array(caracteristicas)\n",
    "nueva_cancion_trans = np.array(nueva_cancion)"
   ]
  },
  {
   "cell_type": "code",
   "execution_count": 9,
   "metadata": {},
   "outputs": [],
   "source": [
    "def knn_search_priority_queue(query, k):\n",
    "    distances = euclidean_distances(query.reshape(1, -1), caracteristicas)[0]\n",
    "    priority_queue = PriorityQueue()\n",
    "    for i, dist in enumerate(distances):\n",
    "        priority_queue.put((dist, nombres[i]))\n",
    "    neighbors = []\n",
    "    for _ in range(k):\n",
    "        dist, neighbor = priority_queue.get()\n",
    "        neighbors.append((neighbor, dist))\n",
    "\n",
    "    return neighbors"
   ]
  },
  {
   "cell_type": "code",
   "execution_count": 13,
   "metadata": {},
   "outputs": [],
   "source": [
    "def range_search(query, radius):\n",
    "    distances = euclidean_distances(query.reshape(1, -1), caracteristicas)[0]\n",
    "    result = [(nombres[i], dist) for i, dist in enumerate(distances) if dist <= radius]\n",
    "    return result"
   ]
  },
  {
   "cell_type": "code",
   "execution_count": 22,
   "metadata": {},
   "outputs": [
    {
     "name": "stdout",
     "output_type": "stream",
     "text": [
      "Vecinos más cercanos (KNN con cola de prioridad): [('Bad Bunny - NI BIEN NI MAL.mp3', 0.0), ('Oz - Espero Que Entiendas.mp3', 31093.11309036824), ('Bonka - Hoy.mp3', 33536.24875223837), ('DrefQuila - Ella busca.mp3', 38152.24018110978), ('Enrique Iglesias, Descemer Bueno, Gente De Zona - Bailando - Spanish Version.mp3', 38689.007864860476)]\n"
     ]
    }
   ],
   "source": [
    "k = 5\n",
    "radius_values = [100]\n",
    "\n",
    "# Búsqueda KNN con cola de prioridad\n",
    "knn_result_priority_queue = knn_search_priority_queue(nueva_cancion_features, k)\n",
    "print(f\"Vecinos más cercanos (KNN con cola de prioridad): {knn_result_priority_queue}\")\n"
   ]
  },
  {
   "cell_type": "code",
   "execution_count": 23,
   "metadata": {},
   "outputs": [
    {
     "name": "stdout",
     "output_type": "stream",
     "text": [
      "Resultados para rango 100: [('Bad Bunny - NI BIEN NI MAL.mp3', 0.0)]\n"
     ]
    }
   ],
   "source": [
    "# Búsqueda por rango\n",
    "for radius in radius_values:\n",
    "    range_result = range_search(nueva_cancion_features, radius)\n",
    "    print(f\"Resultados para rango {radius}: {range_result}\")"
   ]
  },
  {
   "cell_type": "code",
   "execution_count": 30,
   "metadata": {},
   "outputs": [
    {
     "name": "stdout",
     "output_type": "stream",
     "text": [
      "Vecinos más cercanos (KNN secuencial): [(58348.83726952062, 'Lunay - Fin De Semana.mp3'), (68871.22173929434, 'Cypress Hill - Marijuano Locos (Stoned Raiders) - Spanish Version.mp3'), (68999.48659666223, 'J Balvin - Ginza.mp3'), (69545.6553076493, 'Reik, Manuel Turizo - Aleluya.mp3'), (70271.46177208882, 'YSY A - ALMA (prod. 0-600).mp3')]\n"
     ]
    }
   ],
   "source": [
    "import numpy as np\n",
    "\n",
    "def knn_search_sequential(query, k, features, names):\n",
    "    distances = []\n",
    "    for i, feature in enumerate(features):\n",
    "        dist = np.linalg.norm(query - feature)\n",
    "        distances.append((dist, names[i]))\n",
    "\n",
    "    distances.sort(key=lambda x: x[0])  # Ordenar por distancia\n",
    "    neighbors = distances[:k]\n",
    "    return neighbors\n",
    "\n",
    "# Suponiendo que `caracteristicas` es tu conjunto de características y `nombres` son los nombres correspondientes\n",
    "# Asegúrate de tener definidos estos datos antes de llamar a la función\n",
    "#nueva_cancion_features = extract_features(\"Bad Bunny - NI BIEN NI MAL.mp3\")\n",
    "#caracteristicas = np.array(caracteristicas)\n",
    "#nombres = np.array(nombres)\n",
    "\n",
    "# Búsqueda KNN secuencial\n",
    "k = 5\n",
    "knn_result_sequential = knn_search_sequential(nueva_cancion_trans, k, caracteristicas, nombres)\n",
    "print(f\"Vecinos más cercanos (KNN secuencial): {knn_result_sequential}\")\n"
   ]
  },
  {
   "cell_type": "code",
   "execution_count": 46,
   "metadata": {},
   "outputs": [
    {
     "name": "stdout",
     "output_type": "stream",
     "text": [
      "Vecinos más cercanos (KNN secuencial): [(7, 0.0), (71, 31093.113090368337), (10, 33536.24875223839), (30, 38152.24018110975), (37, 38689.00786486043)]\n",
      "Bad Bunny - NI BIEN NI MAL.mp3\n",
      "Oz - Espero Que Entiendas.mp3\n",
      "Bonka - Hoy.mp3\n",
      "DrefQuila - Ella busca.mp3\n",
      "Enrique Iglesias, Descemer Bueno, Gente De Zona - Bailando - Spanish Version.mp3\n"
     ]
    }
   ],
   "source": [
    "def distancia_euclidiana(vector1, vector2):\n",
    "    suma_cuadrados = 0\n",
    "    for p1, p2 in zip(vector1, vector2):\n",
    "        suma_cuadrados += (p1 - p2) ** 2\n",
    "    distance = suma_cuadrados ** 0.5\n",
    "    return distance\n",
    "\n",
    "def knnSearch(Collection, Query, k):\n",
    "    result = []\n",
    "    for i, vector in enumerate(Collection):\n",
    "        dist = distancia_euclidiana(Query, vector)\n",
    "        result.append((i, dist))\n",
    "    result.sort(key=lambda tup: tup[1])\n",
    "    return result[:k]\n",
    "\n",
    "aa= nueva_cancion_features\n",
    "# Supongamos que 'caracteristicas' es tu ndarray y 'nueva_cancion_features' es el vector de características de la nueva canción\n",
    "nueva_cancion_vecinos_secuencial = knnSearch(caracteristicas, nueva_cancion_features, k)\n",
    "\n",
    "#caracteristicas = np.array(caracteristicas)\n",
    "#nueva_cancion_trans = np.array(nueva_cancion)\n",
    "\n",
    "# Imprimir los resultados\n",
    "print(\"Vecinos más cercanos (KNN secuencial):\", nueva_cancion_vecinos_secuencial)\n",
    "for indice, valor in nueva_cancion_vecinos_secuencial:\n",
    "    print(nombres[indice])"
   ]
  }
 ],
 "metadata": {
  "kernelspec": {
   "display_name": "Python 3",
   "language": "python",
   "name": "python3"
  },
  "language_info": {
   "codemirror_mode": {
    "name": "ipython",
    "version": 3
   },
   "file_extension": ".py",
   "mimetype": "text/x-python",
   "name": "python",
   "nbconvert_exporter": "python",
   "pygments_lexer": "ipython3",
   "version": "3.11.3"
  }
 },
 "nbformat": 4,
 "nbformat_minor": 2
}
